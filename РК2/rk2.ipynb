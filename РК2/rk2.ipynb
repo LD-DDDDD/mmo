{
  "nbformat": 4,
  "nbformat_minor": 0,
  "metadata": {
    "colab": {
      "provenance": [],
      "gpuType": "T4"
    },
    "kernelspec": {
      "name": "python3",
      "display_name": "Python 3"
    },
    "language_info": {
      "name": "python"
    }
  },
  "cells": [
    {
      "cell_type": "markdown",
      "source": [
        "#Импорт библиотек и подготовка данных"
      ],
      "metadata": {
        "id": "j1LXcVtn5zjv"
      }
    },
    {
      "cell_type": "code",
      "execution_count": 1,
      "metadata": {
        "id": "WrW4E-4XysvE"
      },
      "outputs": [],
      "source": [
        "import numpy as np\n",
        "import pandas as pd\n",
        "from sklearn.datasets import fetch_20newsgroups\n",
        "from sklearn.feature_extraction.text import CountVectorizer, TfidfVectorizer\n",
        "from sklearn.ensemble import RandomForestClassifier\n",
        "from sklearn.linear_model import LogisticRegression\n",
        "from sklearn.model_selection import train_test_split\n",
        "from sklearn.metrics import accuracy_score, classification_report\n",
        "\n",
        "# Загрузка данных\n",
        "newsgroups = fetch_20newsgroups(subset='all', categories=None, shuffle=True, random_state=42, data_home='/path/to/your/data_home')\n",
        "X, y = newsgroups.data, newsgroups.target\n",
        "\n",
        "# Разделение на обучающую и тестовую выборки\n",
        "X_train, X_test, y_train, y_test = train_test_split(X, y, test_size=0.3, random_state=42)\n"
      ]
    },
    {
      "cell_type": "markdown",
      "source": [
        "#Векторизация признаков\n",
        "##CountVectorizer"
      ],
      "metadata": {
        "id": "TZXpetIK53Ri"
      }
    },
    {
      "cell_type": "code",
      "source": [
        "count_vectorizer = CountVectorizer()\n",
        "X_train_counts = count_vectorizer.fit_transform(X_train)\n",
        "X_test_counts = count_vectorizer.transform(X_test)\n"
      ],
      "metadata": {
        "id": "xzPRigexzdqh"
      },
      "execution_count": 2,
      "outputs": []
    },
    {
      "cell_type": "markdown",
      "source": [
        "##TfidfVectorizer"
      ],
      "metadata": {
        "id": "-uQqrOft59F5"
      }
    },
    {
      "cell_type": "code",
      "source": [
        "tfidf_vectorizer = TfidfVectorizer()\n",
        "X_train_tfidf = tfidf_vectorizer.fit_transform(X_train)\n",
        "X_test_tfidf = tfidf_vectorizer.transform(X_test)\n"
      ],
      "metadata": {
        "id": "LUQuXU63zfHf"
      },
      "execution_count": 3,
      "outputs": []
    },
    {
      "cell_type": "markdown",
      "source": [
        "#Обучение и оценка классификаторов\n",
        "##RandomForestClassifier с CountVectorizer"
      ],
      "metadata": {
        "id": "yinQ2nCq6BP_"
      }
    },
    {
      "cell_type": "code",
      "source": [
        "rf_clf_count = RandomForestClassifier(random_state=42)\n",
        "rf_clf_count.fit(X_train_counts, y_train)\n",
        "y_pred_rf_count = rf_clf_count.predict(X_test_counts)\n",
        "\n",
        "accuracy_rf_count = accuracy_score(y_test, y_pred_rf_count)\n",
        "print(\"RandomForestClassifier with CountVectorizer Accuracy:\", accuracy_rf_count)\n",
        "print(classification_report(y_test, y_pred_rf_count))\n"
      ],
      "metadata": {
        "colab": {
          "base_uri": "https://localhost:8080/"
        },
        "id": "ZP7VsSvQzgtU",
        "outputId": "3563648b-9dd6-4de4-b893-1c3ccf9c4ca1"
      },
      "execution_count": 4,
      "outputs": [
        {
          "output_type": "stream",
          "name": "stdout",
          "text": [
            "RandomForestClassifier with CountVectorizer Accuracy: 0.8381676689069685\n",
            "              precision    recall  f1-score   support\n",
            "\n",
            "           0       0.87      0.81      0.84       236\n",
            "           1       0.67      0.80      0.73       287\n",
            "           2       0.76      0.85      0.80       290\n",
            "           3       0.69      0.67      0.68       285\n",
            "           4       0.83      0.82      0.82       312\n",
            "           5       0.89      0.81      0.85       308\n",
            "           6       0.70      0.87      0.78       276\n",
            "           7       0.84      0.86      0.85       304\n",
            "           8       0.95      0.93      0.94       279\n",
            "           9       0.90      0.90      0.90       308\n",
            "          10       0.90      0.97      0.93       309\n",
            "          11       0.92      0.94      0.93       290\n",
            "          12       0.81      0.62      0.70       304\n",
            "          13       0.90      0.84      0.87       300\n",
            "          14       0.89      0.94      0.91       297\n",
            "          15       0.77      0.98      0.86       292\n",
            "          16       0.83      0.90      0.86       270\n",
            "          17       0.98      0.96      0.97       272\n",
            "          18       0.96      0.69      0.80       239\n",
            "          19       0.86      0.47      0.61       196\n",
            "\n",
            "    accuracy                           0.84      5654\n",
            "   macro avg       0.85      0.83      0.83      5654\n",
            "weighted avg       0.84      0.84      0.84      5654\n",
            "\n"
          ]
        }
      ]
    },
    {
      "cell_type": "markdown",
      "source": [
        "##RandomForestClassifier с TfidfVectorizer"
      ],
      "metadata": {
        "id": "d5koMQhc6Fxh"
      }
    },
    {
      "cell_type": "code",
      "source": [
        "rf_clf_tfidf = RandomForestClassifier(random_state=42)\n",
        "rf_clf_tfidf.fit(X_train_tfidf, y_train)\n",
        "y_pred_rf_tfidf = rf_clf_tfidf.predict(X_test_tfidf)\n",
        "\n",
        "accuracy_rf_tfidf = accuracy_score(y_test, y_pred_rf_tfidf)\n",
        "print(\"RandomForestClassifier with TfidfVectorizer Accuracy:\", accuracy_rf_tfidf)\n",
        "print(classification_report(y_test, y_pred_rf_tfidf))\n"
      ],
      "metadata": {
        "colab": {
          "base_uri": "https://localhost:8080/"
        },
        "id": "pgWH_X9fziB2",
        "outputId": "51058eb2-6d92-41ab-ee95-d71f69cc4836"
      },
      "execution_count": 5,
      "outputs": [
        {
          "output_type": "stream",
          "name": "stdout",
          "text": [
            "RandomForestClassifier with TfidfVectorizer Accuracy: 0.8349840820657941\n",
            "              precision    recall  f1-score   support\n",
            "\n",
            "           0       0.86      0.82      0.84       236\n",
            "           1       0.65      0.78      0.71       287\n",
            "           2       0.75      0.86      0.80       290\n",
            "           3       0.68      0.67      0.67       285\n",
            "           4       0.85      0.79      0.82       312\n",
            "           5       0.86      0.82      0.84       308\n",
            "           6       0.71      0.87      0.78       276\n",
            "           7       0.85      0.87      0.86       304\n",
            "           8       0.94      0.94      0.94       279\n",
            "           9       0.92      0.93      0.92       308\n",
            "          10       0.91      0.96      0.93       309\n",
            "          11       0.92      0.93      0.92       290\n",
            "          12       0.81      0.63      0.71       304\n",
            "          13       0.88      0.84      0.86       300\n",
            "          14       0.89      0.93      0.91       297\n",
            "          15       0.75      0.95      0.84       292\n",
            "          16       0.83      0.91      0.87       270\n",
            "          17       0.96      0.94      0.95       272\n",
            "          18       0.96      0.69      0.80       239\n",
            "          19       0.87      0.40      0.55       196\n",
            "\n",
            "    accuracy                           0.83      5654\n",
            "   macro avg       0.84      0.83      0.83      5654\n",
            "weighted avg       0.84      0.83      0.83      5654\n",
            "\n"
          ]
        }
      ]
    },
    {
      "cell_type": "markdown",
      "source": [
        "##LogisticRegression с CountVectorizer"
      ],
      "metadata": {
        "id": "OPiPxCnt6KeE"
      }
    },
    {
      "cell_type": "code",
      "source": [
        "lr_clf_count = LogisticRegression(max_iter=300, random_state=42)\n",
        "lr_clf_count.fit(X_train_counts, y_train)\n",
        "y_pred_lr_count = lr_clf_count.predict(X_test_counts)\n",
        "\n",
        "accuracy_lr_count = accuracy_score(y_test, y_pred_lr_count)\n",
        "print(\"LogisticRegression with CountVectorizer Accuracy:\", accuracy_lr_count)\n",
        "print(classification_report(y_test, y_pred_lr_count))\n"
      ],
      "metadata": {
        "id": "SFEuP4ylzjJz",
        "colab": {
          "base_uri": "https://localhost:8080/"
        },
        "outputId": "6251f10b-94e6-4a79-ac02-de7707fc8104"
      },
      "execution_count": 6,
      "outputs": [
        {
          "output_type": "stream",
          "name": "stdout",
          "text": [
            "LogisticRegression with CountVectorizer Accuracy: 0.8806154934559604\n",
            "              precision    recall  f1-score   support\n",
            "\n",
            "           0       0.87      0.89      0.88       236\n",
            "           1       0.74      0.80      0.77       287\n",
            "           2       0.83      0.82      0.82       290\n",
            "           3       0.73      0.74      0.73       285\n",
            "           4       0.86      0.84      0.85       312\n",
            "           5       0.87      0.83      0.85       308\n",
            "           6       0.81      0.84      0.82       276\n",
            "           7       0.88      0.90      0.89       304\n",
            "           8       0.98      0.94      0.96       279\n",
            "           9       0.93      0.95      0.94       308\n",
            "          10       0.96      0.95      0.96       309\n",
            "          11       0.96      0.93      0.95       290\n",
            "          12       0.82      0.80      0.81       304\n",
            "          13       0.90      0.94      0.92       300\n",
            "          14       0.92      0.93      0.92       297\n",
            "          15       0.90      0.96      0.93       292\n",
            "          16       0.91      0.93      0.92       270\n",
            "          17       0.98      0.97      0.97       272\n",
            "          18       0.92      0.86      0.89       239\n",
            "          19       0.85      0.76      0.80       196\n",
            "\n",
            "    accuracy                           0.88      5654\n",
            "   macro avg       0.88      0.88      0.88      5654\n",
            "weighted avg       0.88      0.88      0.88      5654\n",
            "\n"
          ]
        },
        {
          "output_type": "stream",
          "name": "stderr",
          "text": [
            "/usr/local/lib/python3.10/dist-packages/sklearn/linear_model/_logistic.py:458: ConvergenceWarning: lbfgs failed to converge (status=1):\n",
            "STOP: TOTAL NO. of ITERATIONS REACHED LIMIT.\n",
            "\n",
            "Increase the number of iterations (max_iter) or scale the data as shown in:\n",
            "    https://scikit-learn.org/stable/modules/preprocessing.html\n",
            "Please also refer to the documentation for alternative solver options:\n",
            "    https://scikit-learn.org/stable/modules/linear_model.html#logistic-regression\n",
            "  n_iter_i = _check_optimize_result(\n"
          ]
        }
      ]
    },
    {
      "cell_type": "markdown",
      "source": [
        "##LogisticRegression с TfidfVectorizer"
      ],
      "metadata": {
        "id": "n9OO00TQ6RRj"
      }
    },
    {
      "cell_type": "code",
      "source": [
        "lr_clf_tfidf = LogisticRegression(max_iter=300, random_state=42)\n",
        "lr_clf_tfidf.fit(X_train_tfidf, y_train)\n",
        "y_pred_lr_tfidf = lr_clf_tfidf.predict(X_test_tfidf)\n",
        "\n",
        "accuracy_lr_tfidf = accuracy_score(y_test, y_pred_lr_tfidf)\n",
        "print(\"LogisticRegression with TfidfVectorizer Accuracy:\", accuracy_lr_tfidf)\n",
        "print(classification_report(y_test, y_pred_lr_tfidf))\n"
      ],
      "metadata": {
        "id": "2oBzftonzmzW",
        "colab": {
          "base_uri": "https://localhost:8080/"
        },
        "outputId": "de4d77b8-654f-4207-ab26-492884a9530f"
      },
      "execution_count": 7,
      "outputs": [
        {
          "output_type": "stream",
          "name": "stdout",
          "text": [
            "LogisticRegression with TfidfVectorizer Accuracy: 0.8938804386275203\n",
            "              precision    recall  f1-score   support\n",
            "\n",
            "           0       0.89      0.89      0.89       236\n",
            "           1       0.77      0.86      0.81       287\n",
            "           2       0.83      0.86      0.84       290\n",
            "           3       0.75      0.76      0.75       285\n",
            "           4       0.89      0.85      0.87       312\n",
            "           5       0.91      0.86      0.88       308\n",
            "           6       0.75      0.84      0.79       276\n",
            "           7       0.94      0.92      0.93       304\n",
            "           8       0.97      0.94      0.96       279\n",
            "           9       0.96      0.97      0.96       308\n",
            "          10       0.96      0.96      0.96       309\n",
            "          11       0.99      0.95      0.97       290\n",
            "          12       0.84      0.84      0.84       304\n",
            "          13       0.94      0.93      0.93       300\n",
            "          14       0.93      0.96      0.95       297\n",
            "          15       0.88      0.97      0.92       292\n",
            "          16       0.92      0.93      0.92       270\n",
            "          17       0.99      0.98      0.98       272\n",
            "          18       0.93      0.87      0.90       239\n",
            "          19       0.89      0.64      0.74       196\n",
            "\n",
            "    accuracy                           0.89      5654\n",
            "   macro avg       0.90      0.89      0.89      5654\n",
            "weighted avg       0.90      0.89      0.89      5654\n",
            "\n"
          ]
        }
      ]
    }
  ]
}